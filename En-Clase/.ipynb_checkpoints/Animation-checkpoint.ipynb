{
 "metadata": {
  "name": "",
  "signature": "sha256:607dac56c886c44235aa6b988a31369d4cb1c1a7ab453ba2e70d07e790642936"
 },
 "nbformat": 3,
 "nbformat_minor": 0,
 "worksheets": [
  {
   "cells": [
    {
     "cell_type": "code",
     "collapsed": false,
     "input": [
      "%pylab inline"
     ],
     "language": "python",
     "metadata": {},
     "outputs": [
      {
       "output_type": "stream",
       "stream": "stdout",
       "text": [
        "Populating the interactive namespace from numpy and matplotlib\n"
       ]
      }
     ],
     "prompt_number": 2
    },
    {
     "cell_type": "code",
     "collapsed": false,
     "input": [
      "# JSAnimation import available at https://github.com/jakevdp/JSAnimation\n",
      "import matplotlib\n",
      "matplotlib.use('TkAgg')\n",
      "\n",
      "from JSAnimation import IPython_display\n",
      "from matplotlib import animation"
     ],
     "language": "python",
     "metadata": {},
     "outputs": [],
     "prompt_number": 13
    },
    {
     "cell_type": "code",
     "collapsed": false,
     "input": [
      "# create a simple animation\n",
      "fig = plt.figure()\n",
      "ax = plt.axes(xlim=(0, 10), ylim=(-2, 2))\n",
      "line, = ax.plot([], [], lw=2)\n",
      "\n",
      "x = np.linspace(0, 1, 1000)\n",
      "\n",
      "def init():\n",
      "    line.set_data([], [])\n",
      "    return line,\n",
      "\n",
      "def animate(i):\n",
      "    nombre = str(i+1)+'.dat'\n",
      "    data = np.loadtxt(nombre)\n",
      "    line.set_data(x, np.cos(i * 0.02 * np.pi) * np.sin(x - i * 0.02 * np.pi))\n",
      "    return line,\n",
      "\n",
      "animation.FuncAnimation(fig, animate, init_func=init,\n",
      "                        frames=100, interval=20, blit=True)"
     ],
     "language": "python",
     "metadata": {},
     "outputs": []
    }
   ],
   "metadata": {}
  }
 ]
}