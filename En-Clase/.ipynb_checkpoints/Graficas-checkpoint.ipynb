{
 "metadata": {
  "name": "",
  "signature": "sha256:ca18fc8afa211844e84fbd59d45f256a4924f9335105c9a4dcd9081aec855a09"
 },
 "nbformat": 3,
 "nbformat_minor": 0,
 "worksheets": [
  {
   "cells": [
    {
     "cell_type": "code",
     "collapsed": false,
     "input": [
      "%pylab inline"
     ],
     "language": "python",
     "metadata": {},
     "outputs": [
      {
       "output_type": "stream",
       "stream": "stdout",
       "text": [
        "Populating the interactive namespace from numpy and matplotlib\n"
       ]
      }
     ],
     "prompt_number": 4
    },
    {
     "cell_type": "code",
     "collapsed": false,
     "input": [
      "datos = loadtxt(\"datos.dat\")\n",
      "\n",
      "print(datos)"
     ],
     "language": "python",
     "metadata": {},
     "outputs": [
      {
       "output_type": "stream",
       "stream": "stdout",
       "text": [
        "[[  0.00000000e+00   0.00000000e+00   0.00000000e+00   0.00000000e+00]\n",
        " [  1.00000000e-03   1.31000000e-04   1.16000000e-04   1.16000000e-04]\n",
        " [  2.00000000e-03   1.39000000e-04   1.39000000e-04   1.39000000e-04]\n",
        " ..., \n",
        " [  9.96991000e-01   0.00000000e+00   0.00000000e+00   0.00000000e+00]\n",
        " [  9.97991000e-01   0.00000000e+00   0.00000000e+00   0.00000000e+00]\n",
        " [  9.98991000e-01   0.00000000e+00   0.00000000e+00   0.00000000e+00]]\n"
       ]
      }
     ],
     "prompt_number": 5
    },
    {
     "cell_type": "code",
     "collapsed": false,
     "input": [
      "plot(datos[:,0],datos[:,1])\n",
      "plot(datos[:,0],datos[:,2])\n",
      "plt.xlabel('x')\n",
      "plt.ylabel('u')"
     ],
     "language": "python",
     "metadata": {},
     "outputs": [
      {
       "metadata": {},
       "output_type": "pyout",
       "prompt_number": 12,
       "text": [
        "<matplotlib.text.Text at 0x107720850>"
       ]
      },
      {
       "metadata": {},
       "output_type": "display_data",
       "png": "[encoded data removed]",
       "text": [
        "<matplotlib.figure.Figure at 0x1077e6190>"
       ]
      }
     ],
     "prompt_number": 12
    },
    {
     "cell_type": "code",
     "collapsed": false,
     "input": [],
     "language": "python",
     "metadata": {},
     "outputs": []
    }
   ],
   "metadata": {}
  }
 ]
}