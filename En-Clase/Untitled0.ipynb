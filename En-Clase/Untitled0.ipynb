{
 "metadata": {
  "name": "",
  "signature": "sha256:72352dba5dfc8f60ac25cc2a90e682993f54cc2d469e4f7c453c185c3e3625a3"
 },
 "nbformat": 3,
 "nbformat_minor": 0,
 "worksheets": [
  {
   "cells": [
    {
     "cell_type": "code",
     "collapsed": false,
     "input": [
      "%pylab inline"
     ],
     "language": "python",
     "metadata": {},
     "outputs": [
      {
       "output_type": "stream",
       "stream": "stdout",
       "text": [
        "Populating the interactive namespace from numpy and matplotlib\n"
       ]
      }
     ],
     "prompt_number": 40
    },
    {
     "cell_type": "code",
     "collapsed": false,
     "input": [
      "datos = loadtxt(\"datos.dat\")\n",
      "\n",
      "print(datos)"
     ],
     "language": "python",
     "metadata": {},
     "outputs": [
      {
       "output_type": "stream",
       "stream": "stdout",
       "text": [
        "[[ 0.        1.      ]\n",
        " [ 0.025     1.      ]\n",
        " [ 0.05      1.      ]\n",
        " [ 0.075     1.      ]\n",
        " [ 0.1       1.      ]\n",
        " [ 0.125     1.      ]\n",
        " [ 0.15      1.      ]\n",
        " [ 0.175     1.      ]\n",
        " [ 0.2       1.      ]\n",
        " [ 0.225     1.      ]\n",
        " [ 0.25      1.      ]\n",
        " [ 0.275     1.      ]\n",
        " [ 0.3       1.      ]\n",
        " [ 0.325     1.      ]\n",
        " [ 0.35      1.      ]\n",
        " [ 0.375     1.      ]\n",
        " [ 0.4       1.      ]\n",
        " [ 0.425     1.      ]\n",
        " [ 0.45      1.      ]\n",
        " [ 0.475     1.      ]\n",
        " [ 0.5       1.      ]\n",
        " [ 0.525     1.      ]\n",
        " [ 0.55      1.      ]\n",
        " [ 0.575     1.      ]\n",
        " [ 0.6       1.      ]\n",
        " [ 0.625     1.      ]\n",
        " [ 0.65      1.      ]\n",
        " [ 0.675     1.      ]\n",
        " [ 0.7       1.      ]\n",
        " [ 0.725     1.      ]\n",
        " [ 0.75      1.      ]\n",
        " [ 0.775     1.96    ]\n",
        " [ 0.8       1.9984  ]\n",
        " [ 0.825     1.999936]\n",
        " [ 0.85      1.999997]\n",
        " [ 0.875     2.      ]\n",
        " [ 0.9       2.      ]\n",
        " [ 0.925     2.      ]\n",
        " [ 0.95      2.      ]\n",
        " [ 0.975     2.      ]\n",
        " [ 1.        2.      ]\n",
        " [ 1.025     2.      ]\n",
        " [ 1.05      2.      ]\n",
        " [ 1.075     2.      ]\n",
        " [ 1.1       2.      ]\n",
        " [ 1.125     2.      ]\n",
        " [ 1.149999  2.      ]\n",
        " [ 1.174999  2.      ]\n",
        " [ 1.199999  2.      ]\n",
        " [ 1.224999  2.      ]\n",
        " [ 1.249999  2.      ]\n",
        " [ 1.274999  1.04    ]\n",
        " [ 1.299999  1.0016  ]\n",
        " [ 1.324999  1.000064]\n",
        " [ 1.349999  1.000003]\n",
        " [ 1.374999  1.      ]\n",
        " [ 1.399999  1.      ]\n",
        " [ 1.424999  1.      ]\n",
        " [ 1.449999  1.      ]\n",
        " [ 1.474999  1.      ]\n",
        " [ 1.499999  1.      ]\n",
        " [ 1.524999  1.      ]\n",
        " [ 1.549999  1.      ]\n",
        " [ 1.574999  1.      ]\n",
        " [ 1.599999  1.      ]\n",
        " [ 1.624999  1.      ]\n",
        " [ 1.649999  1.      ]\n",
        " [ 1.674999  1.      ]\n",
        " [ 1.699999  1.      ]\n",
        " [ 1.724999  1.      ]\n",
        " [ 1.749999  1.      ]\n",
        " [ 1.774999  1.      ]\n",
        " [ 1.799999  1.      ]\n",
        " [ 1.824999  1.      ]\n",
        " [ 1.849999  1.      ]\n",
        " [ 1.874999  1.      ]\n",
        " [ 1.899999  1.      ]\n",
        " [ 1.924999  1.      ]\n",
        " [ 1.949999  1.      ]\n",
        " [ 1.974999  1.      ]]\n"
       ]
      }
     ],
     "prompt_number": 43
    },
    {
     "cell_type": "code",
     "collapsed": false,
     "input": [
      "plot(datos[:,0],datos[:,1])"
     ],
     "language": "python",
     "metadata": {},
     "outputs": [
      {
       "metadata": {},
       "output_type": "pyout",
       "prompt_number": 44,
       "text": [
        "[<matplotlib.lines.Line2D at 0x1098296d0>]"
       ]
      },
      {
       "metadata": {},
       "output_type": "display_data",
       "png": "[encoded data removed]",
       "text": [
        "<matplotlib.figure.Figure at 0x109789910>"
       ]
      }
     ],
     "prompt_number": 44
    },
    {
     "cell_type": "code",
     "collapsed": false,
     "input": [],
     "language": "python",
     "metadata": {},
     "outputs": []
    }
   ],
   "metadata": {}
  }
 ]
}